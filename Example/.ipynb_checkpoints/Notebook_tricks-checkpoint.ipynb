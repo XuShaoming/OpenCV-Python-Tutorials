{
 "cells": [
  {
   "cell_type": "raw",
   "metadata": {},
   "source": [
    "esc +\n",
    "\n",
    "m : cell type to markdown\n",
    "y : cell type to code\n",
    "r : cell type to Raw NB convert\n",
    "\n",
    "A : insert cell above\n",
    "X : cut selected cell\n",
    "⇧V : paste cell above\n"
   ]
  },
  {
   "cell_type": "code",
   "execution_count": null,
   "metadata": {},
   "outputs": [],
   "source": [
    "\n"
   ]
  },
  {
   "cell_type": "code",
   "execution_count": null,
   "metadata": {},
   "outputs": [],
   "source": []
  }
 ],
 "metadata": {
  "kernelspec": {
   "display_name": "projectname",
   "language": "python",
   "name": "projectname"
  },
  "language_info": {
   "codemirror_mode": {
    "name": "ipython",
    "version": 3
   },
   "file_extension": ".py",
   "mimetype": "text/x-python",
   "name": "python",
   "nbconvert_exporter": "python",
   "pygments_lexer": "ipython3",
   "version": "3.7.0"
  }
 },
 "nbformat": 4,
 "nbformat_minor": 2
}
