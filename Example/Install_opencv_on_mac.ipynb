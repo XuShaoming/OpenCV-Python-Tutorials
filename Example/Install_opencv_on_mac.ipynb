{
 "cells": [
  {
   "cell_type": "raw",
   "metadata": {},
   "source": [
    "1. install opencv on mac: \n",
    "    https://medium.com/@nuwanprabhath/installing-opencv-in-macos-high-sierra-for-python-3-89c79f0a246a"
   ]
  },
  {
   "cell_type": "raw",
   "metadata": {},
   "source": [
    "2. python virtual environment:\n",
    "   Purpose: Create a virtual environment for OpenCV project and point our previous OpenCV installation so that it can reuse it.\n",
    "   Command:\n",
    "   1. Create : python3 -m venv tutorial-env\n",
    "   2. Run    : source tutorial-env/bin/activate \n",
    "   3. Exit   : deactivate\n",
    "   "
   ]
  },
  {
   "cell_type": "raw",
   "metadata": {},
   "source": [
    "3.Using jupyter notebooks with a virtual environment: \n",
    "    https://anbasile.github.io/programming/2017/06/25/jupyter-venv/"
   ]
  }
 ],
 "metadata": {
  "kernelspec": {
   "display_name": "projectname",
   "language": "python",
   "name": "projectname"
  },
  "language_info": {
   "codemirror_mode": {
    "name": "ipython",
    "version": 3
   },
   "file_extension": ".py",
   "mimetype": "text/x-python",
   "name": "python",
   "nbconvert_exporter": "python",
   "pygments_lexer": "ipython3",
   "version": "3.7.0"
  }
 },
 "nbformat": 4,
 "nbformat_minor": 2
}
