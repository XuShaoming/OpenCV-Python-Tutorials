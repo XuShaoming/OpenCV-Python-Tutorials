{
 "cells": [
  {
   "cell_type": "markdown",
   "metadata": {},
   "source": [
    "1. Try to create the logo of OpenCV using drawing functions available in OpenCV"
   ]
  },
  {
   "cell_type": "code",
   "execution_count": 1,
   "metadata": {},
   "outputs": [],
   "source": [
    "import cv2\n",
    "import numpy as np\n",
    "import matplotlib.pyplot as plt\n",
    "%matplotlib inline"
   ]
  },
  {
   "cell_type": "code",
   "execution_count": 3,
   "metadata": {},
   "outputs": [
    {
     "data": {
      "text/plain": [
       "<matplotlib.image.AxesImage at 0x122ebf048>"
      ]
     },
     "execution_count": 3,
     "metadata": {},
     "output_type": "execute_result"
    },
    {
     "data": {
      "image/png": "[encoded data removed]",
      "text/plain": [
       "<Figure size 432x288 with 1 Axes>"
      ]
     },
     "metadata": {
      "needs_background": "light"
     },
     "output_type": "display_data"
    }
   ],
   "source": [
    "img = np.zeros((512,512,3), np.uint8)\n",
    "img = cv2.circle(img, (256,198), 40, (0,0,255),-1)\n",
    "img = cv2.circle(img, (256,198), 20, (0,0,0),-1)\n",
    "img = cv2.circle(img, (206,285), 40, (0,255,0),-1)\n",
    "img = cv2.circle(img, (206,285), 20, (0,0,0),-1)\n",
    "pts = np.array([(256,198),(206,285),(306,285)], np.int32)\n",
    "img = cv2.fillConvexPoly(img,pts,(0,0,0))\n",
    "img = cv2.circle(img, (306,285), 40, (255,0,0),-1)\n",
    "img = cv2.circle(img, (306,285), 20, (0,0,0),-1)\n",
    "pts = np.array([(283,245),(329,245),(306,285)], np.int32)\n",
    "img = cv2.fillConvexPoly(img,pts,(0,0,0))\n",
    "font = cv2.FONT_HERSHEY_SIMPLEX\n",
    "cv2.putText(img,'OpenCV',(190,380), font, 1,(255,255,255),2,cv2.LINE_AA)\n",
    "RGB_img = cv2.cvtColor(img, cv2.COLOR_BGR2RGB)\n",
    "plt.imshow(RGB_img)"
   ]
  },
  {
   "cell_type": "code",
   "execution_count": null,
   "metadata": {},
   "outputs": [],
   "source": []
  }
 ],
 "metadata": {
  "kernelspec": {
   "display_name": "projectname",
   "language": "python",
   "name": "projectname"
  },
  "language_info": {
   "codemirror_mode": {
    "name": "ipython",
    "version": 3
   },
   "file_extension": ".py",
   "mimetype": "text/x-python",
   "name": "python",
   "nbconvert_exporter": "python",
   "pygments_lexer": "ipython3",
   "version": "3.7.0"
  }
 },
 "nbformat": 4,
 "nbformat_minor": 2
}
