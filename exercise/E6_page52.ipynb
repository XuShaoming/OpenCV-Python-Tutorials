{
 "cells": [
  {
   "cell_type": "markdown",
   "metadata": {},
   "source": [
    "### Try to find a way to extract more than one colored objects,for eg, extractred, blue, green objects simultaneously."
   ]
  },
  {
   "cell_type": "code",
   "execution_count": null,
   "metadata": {},
   "outputs": [],
   "source": [
    "import cv2\n",
    "import numpy as np"
   ]
  },
  {
   "cell_type": "code",
   "execution_count": null,
   "metadata": {},
   "outputs": [],
   "source": [
    "cap = cv2.VideoCapture(0)\n",
    "while(1):\n",
    "    # Take each frame\n",
    "    _, frame = cap.read() \n",
    "    \n",
    "    # Convert BGR to HSV\n",
    "    hsv = cv2.cvtColor(frame, cv2.COLOR_BGR2HSV)\n",
    "    # define range of blue color in HSV\n",
    "    lower_blue = np.array([110,50,50])\n",
    "    upper_blue = np.array([130,255,255])\n",
    "    lower_green = np.array([50, 50,50])\n",
    "    upper_green = np.array([70, 255,255])\n",
    "    # Threshold the HSV image to get only blue colors\n",
    "    mask_blue = cv2.inRange(hsv, lower_blue, upper_blue) \n",
    "    mask_green = cv2.inRange(hsv, lower_green, upper_green)\n",
    "    \n",
    "    # Bitwise-AND mask and original image\n",
    "    res_blue = cv2.bitwise_and(frame,frame, mask= mask_blue)\n",
    "    res_green = cv2.bitwise_and(frame,frame, mask= mask_green)\n",
    "    dst = cv2.add(res_blue,res_green)\n",
    "    \n",
    "    cv2.imshow('res',dst)\n",
    "    k = cv2.waitKey(5) & 0xFF \n",
    "    if k == 27:\n",
    "        break"
   ]
  },
  {
   "cell_type": "code",
   "execution_count": 7,
   "metadata": {},
   "outputs": [
    {
     "name": "stdout",
     "output_type": "stream",
     "text": [
      "[[[ 60 255 255]]]\n"
     ]
    }
   ],
   "source": [
    "green = np.uint8([[[0,255,0 ]]])\n",
    "hsv_green = cv2.cvtColor(green,cv2.COLOR_BGR2HSV)\n",
    "print(hsv_green)\n",
    "\n",
    "lower_green = [[[50, 50,50]]]\n",
    "higher_green = [[[70, 255,255]]]"
   ]
  }
 ],
 "metadata": {
  "kernelspec": {
   "display_name": "projectname",
   "language": "python",
   "name": "projectname"
  },
  "language_info": {
   "codemirror_mode": {
    "name": "ipython",
    "version": 3
   },
   "file_extension": ".py",
   "mimetype": "text/x-python",
   "name": "python",
   "nbconvert_exporter": "python",
   "pygments_lexer": "ipython3",
   "version": "3.7.0"
  }
 },
 "nbformat": 4,
 "nbformat_minor": 2
}
