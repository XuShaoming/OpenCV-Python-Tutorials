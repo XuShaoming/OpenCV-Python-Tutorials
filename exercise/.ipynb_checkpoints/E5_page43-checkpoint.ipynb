{
 "cells": [
  {
   "cell_type": "code",
   "execution_count": 1,
   "metadata": {},
   "outputs": [],
   "source": [
    "import cv2\n",
    "import numpy as np"
   ]
  },
  {
   "cell_type": "code",
   "execution_count": 2,
   "metadata": {},
   "outputs": [],
   "source": [
    "def nothing(x):\n",
    "    pass"
   ]
  },
  {
   "cell_type": "code",
   "execution_count": 3,
   "metadata": {},
   "outputs": [],
   "source": [
    "img1 = cv2.imread('../image/github_logo1.png')\n",
    "img2 = cv2.imread('../image/github_logo2.png')\n",
    "cv2.namedWindow('image')\n",
    "\n",
    "# create trackbars for color change\n",
    "cv2.createTrackbar('img1 weight','image',0,100,nothing)\n",
    "cv2.createTrackbar('img2 wieght','image',0,100,nothing)\n",
    "w1 = 0.0\n",
    "w2 = 0.0\n",
    "while(1):\n",
    "    dst = cv2.addWeighted(img1, w1, img2, w2, 0)\n",
    "    cv2.imshow('image',dst)\n",
    "    k = cv2.waitKey(1) & 0xFF\n",
    "    if k == 27 or k == ord('q'):\n",
    "        break    \n",
    "    w1 = cv2.getTrackbarPos('img1 weight','image') / 100\n",
    "    w2 = cv2.getTrackbarPos('img2 wieght','image') / 100\n",
    "    \n",
    "cv2.destroyAllWindows() "
   ]
  }
 ],
 "metadata": {
  "kernelspec": {
   "display_name": "projectname",
   "language": "python",
   "name": "projectname"
  },
  "language_info": {
   "codemirror_mode": {
    "name": "ipython",
    "version": 3
   },
   "file_extension": ".py",
   "mimetype": "text/x-python",
   "name": "python",
   "nbconvert_exporter": "python",
   "pygments_lexer": "ipython3",
   "version": "3.7.0"
  }
 },
 "nbformat": 4,
 "nbformat_minor": 2
}
